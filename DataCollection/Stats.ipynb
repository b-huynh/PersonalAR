{
 "cells": [
  {
   "cell_type": "code",
   "execution_count": 271,
   "metadata": {},
   "outputs": [],
   "source": [
    "from datetime import datetime\n",
    "import glob\n",
    "import itertools\n",
    "import matplotlib.pyplot as plt\n",
    "import numpy as np\n",
    "import os\n",
    "import pandas\n",
    "import pprint\n",
    "import pytz\n",
    "import scipy\n",
    "from scipy import stats\n",
    "\n",
    "from ipynb.fs.full.DCParser import extract_frames"
   ]
  },
  {
   "cell_type": "code",
   "execution_count": 248,
   "metadata": {},
   "outputs": [
    {
     "name": "stdout",
     "output_type": "stream",
     "text": [
      "['DataCollection-20220517T162747Z-001/DataCollection\\\\30\\\\PersonalAR\\\\1652717537747\\\\', 'DataCollection-20220517T162747Z-001/DataCollection\\\\30\\\\PersonalAR\\\\1652717600748\\\\', 'DataCollection-20220517T162747Z-001/DataCollection\\\\30\\\\PersonalAR\\\\1652718942341\\\\', 'DataCollection-20220517T162747Z-001/DataCollection\\\\31\\\\PersonalAR\\\\1652722541690\\\\', 'DataCollection-20220517T162747Z-001/DataCollection\\\\31\\\\PersonalAR\\\\1652723950882\\\\', 'DataCollection-20220517T162747Z-001/DataCollection\\\\32\\\\PersonalAR\\\\1652733257952\\\\', 'DataCollection-20220517T162747Z-001/DataCollection\\\\32\\\\PersonalAR\\\\1652734562184\\\\', 'DataCollection-20220517T162747Z-001/DataCollection\\\\32\\\\PersonalAR\\\\1652735244744\\\\', 'DataCollection-20220517T162747Z-001/DataCollection\\\\32\\\\PersonalAR\\\\1652735718661\\\\', 'DataCollection-20220517T162747Z-001/DataCollection\\\\34\\\\PersonalAR\\\\1652744125647\\\\', 'DataCollection-20220517T162747Z-001/DataCollection\\\\34\\\\PersonalAR\\\\1652745462356\\\\', 'DataCollection-20220517T162747Z-001/DataCollection\\\\34\\\\PersonalAR\\\\1652746123022\\\\', 'DataCollection-20220517T162747Z-001/DataCollection\\\\34\\\\PersonalAR\\\\1652746608335\\\\', 'DataCollection-20220517T162747Z-001/DataCollection\\\\35\\\\PersonalAR\\\\1652802782398\\\\', 'DataCollection-20220517T162747Z-001/DataCollection\\\\35\\\\PersonalAR\\\\1652804206182\\\\', 'DataCollection-20220517T162747Z-001/DataCollection\\\\35\\\\PersonalAR\\\\1652804924104\\\\', 'DataCollection-20220517T162747Z-001/DataCollection\\\\36\\\\PersonalAR\\\\1652809236423\\\\', 'DataCollection-20220517T162747Z-001/DataCollection\\\\36\\\\PersonalAR\\\\1652810350745\\\\', 'DataCollection-20220517T162747Z-001/DataCollection\\\\36\\\\PersonalAR\\\\1652810541606\\\\', 'DataCollection-20220517T162747Z-001/DataCollection\\\\36\\\\PersonalAR\\\\1652811191755\\\\', 'DataCollection-20220517T162747Z-001/DataCollection\\\\36\\\\PersonalAR\\\\1652811681662\\\\', 'DataCollection-20220517T162747Z-001/DataCollection\\\\37\\\\PersonalAR\\\\1652814317933\\\\', 'DataCollection-20220517T162747Z-001/DataCollection\\\\37\\\\PersonalAR\\\\1652815973439\\\\', 'DataCollection-20220517T162747Z-001/DataCollection\\\\37\\\\PersonalAR\\\\1652816580566\\\\', 'DataCollection-20220517T162747Z-001/DataCollection\\\\38\\\\PersonalAR\\\\1653585763266\\\\', 'DataCollection-20220517T162747Z-001/DataCollection\\\\38\\\\PersonalAR\\\\1653587656634\\\\', 'DataCollection-20220517T162747Z-001/DataCollection\\\\38\\\\PersonalAR\\\\1653588100124\\\\', 'DataCollection-20220517T162747Z-001/DataCollection\\\\38\\\\PersonalAR\\\\1653589812911\\\\', 'DataCollection-20220517T162747Z-001/DataCollection\\\\38\\\\PersonalAR\\\\1653590383887\\\\', 'DataCollection-20220517T162747Z-001/DataCollection\\\\39\\\\PersonalAR\\\\1652825415163\\\\', 'DataCollection-20220517T162747Z-001/DataCollection\\\\39\\\\PersonalAR\\\\1652827225214\\\\', 'DataCollection-20220517T162747Z-001/DataCollection\\\\39\\\\PersonalAR\\\\1652827312130- this data is probably the section that the device crashed\\\\', 'DataCollection-20220517T162747Z-001/DataCollection\\\\39\\\\PersonalAR\\\\1652827690145\\\\', 'DataCollection-20220517T162747Z-001/DataCollection\\\\39\\\\PersonalAR\\\\1652828210482\\\\', 'DataCollection-20220517T162747Z-001/DataCollection\\\\40\\\\PersonalAR\\\\1652831168741\\\\', 'DataCollection-20220517T162747Z-001/DataCollection\\\\40\\\\PersonalAR\\\\1652833864026\\\\', 'DataCollection-20220517T162747Z-001/DataCollection\\\\40\\\\PersonalAR\\\\1652834380225\\\\', 'DataCollection-20220517T162747Z-001/DataCollection\\\\40\\\\PersonalAR\\\\1652834478631\\\\', 'DataCollection-20220517T162747Z-001/DataCollection\\\\40\\\\PersonalAR\\\\1652834896726\\\\', 'DataCollection-20220517T162747Z-001/DataCollection\\\\40\\\\PersonalAR\\\\1652834962008\\\\', 'DataCollection-20220517T162747Z-001/DataCollection\\\\40\\\\PersonalAR\\\\1652835523560\\\\', 'DataCollection-20220517T162747Z-001/DataCollection\\\\41\\\\PersonalAR\\\\1652900366942\\\\', 'DataCollection-20220517T162747Z-001/DataCollection\\\\41\\\\PersonalAR\\\\1652900706647\\\\', 'DataCollection-20220517T162747Z-001/DataCollection\\\\41\\\\PersonalAR\\\\1652902437032\\\\', 'DataCollection-20220517T162747Z-001/DataCollection\\\\41\\\\PersonalAR\\\\1652902939405\\\\', 'DataCollection-20220517T162747Z-001/DataCollection\\\\43\\\\PersonalAR\\\\1652987329331\\\\', 'DataCollection-20220517T162747Z-001/DataCollection\\\\43\\\\PersonalAR\\\\1652987940341\\\\', 'DataCollection-20220517T162747Z-001/DataCollection\\\\43\\\\PersonalAR\\\\1652988688884\\\\', 'DataCollection-20220517T162747Z-001/DataCollection\\\\43\\\\PersonalAR\\\\1652989249004\\\\', 'DataCollection-20220517T162747Z-001/DataCollection\\\\44\\\\PersonalAR\\\\1652992328132\\\\', 'DataCollection-20220517T162747Z-001/DataCollection\\\\44\\\\PersonalAR\\\\1652993844682\\\\', 'DataCollection-20220517T162747Z-001/DataCollection\\\\44\\\\PersonalAR\\\\1652994457341\\\\', 'DataCollection-20220517T162747Z-001/DataCollection\\\\44\\\\PersonalAR\\\\1652994513842\\\\', 'DataCollection-20220517T162747Z-001/DataCollection\\\\45\\\\PersonalAR\\\\1652997534390\\\\', 'DataCollection-20220517T162747Z-001/DataCollection\\\\45\\\\PersonalAR\\\\1652997625131\\\\', 'DataCollection-20220517T162747Z-001/DataCollection\\\\45\\\\PersonalAR\\\\1652998088189\\\\', 'DataCollection-20220517T162747Z-001/DataCollection\\\\45\\\\PersonalAR\\\\1652999718380\\\\', 'DataCollection-20220517T162747Z-001/DataCollection\\\\45\\\\PersonalAR\\\\1653000276459\\\\', 'DataCollection-20220517T162747Z-001/DataCollection\\\\45\\\\PersonalAR\\\\1653000371666\\\\', 'DataCollection-20220517T162747Z-001/DataCollection\\\\46\\\\PersonalAR\\\\1653083540088\\\\', 'DataCollection-20220517T162747Z-001/DataCollection\\\\46\\\\PersonalAR\\\\1653084439447\\\\', 'DataCollection-20220517T162747Z-001/DataCollection\\\\46\\\\PersonalAR\\\\1653086116099\\\\', 'DataCollection-20220517T162747Z-001/DataCollection\\\\46\\\\PersonalAR\\\\1653086693958\\\\', 'DataCollection-20220517T162747Z-001/DataCollection\\\\46\\\\PersonalAR\\\\1653087211808\\\\', 'DataCollection-20220517T162747Z-001/DataCollection\\\\47\\\\PersonalAR\\\\1653606734394\\\\', 'DataCollection-20220517T162747Z-001/DataCollection\\\\47\\\\PersonalAR\\\\1653607116380\\\\', 'DataCollection-20220517T162747Z-001/DataCollection\\\\47\\\\PersonalAR\\\\1653608459555\\\\', 'DataCollection-20220517T162747Z-001/DataCollection\\\\47\\\\PersonalAR\\\\1653609002504\\\\', 'DataCollection-20220517T162747Z-001/DataCollection\\\\47\\\\PersonalAR\\\\1653609146946\\\\', 'DataCollection-20220517T162747Z-001/DataCollection\\\\48\\\\PersonalAR\\\\1653425157642\\\\', 'DataCollection-20220517T162747Z-001/DataCollection\\\\48\\\\PersonalAR\\\\1653427169910\\\\', 'DataCollection-20220517T162747Z-001/DataCollection\\\\48\\\\PersonalAR\\\\1653427516425\\\\', 'DataCollection-20220517T162747Z-001/DataCollection\\\\48\\\\PersonalAR\\\\1653428159654\\\\', 'DataCollection-20220517T162747Z-001/DataCollection\\\\49\\\\PersonalAR\\\\1652911864707\\\\', 'DataCollection-20220517T162747Z-001/DataCollection\\\\49\\\\PersonalAR\\\\1652912035520\\\\', 'DataCollection-20220517T162747Z-001/DataCollection\\\\49\\\\PersonalAR\\\\1652913853966\\\\', 'DataCollection-20220517T162747Z-001/DataCollection\\\\49\\\\PersonalAR\\\\1652914069876\\\\', 'DataCollection-20220517T162747Z-001/DataCollection\\\\49\\\\PersonalAR\\\\1652914687548\\\\', 'DataCollection-20220517T162747Z-001/DataCollection\\\\49\\\\PersonalAR\\\\1652915177216\\\\', 'DataCollection-20220517T162747Z-001/DataCollection\\\\51\\\\PersonalAR\\\\1653002736538\\\\', 'DataCollection-20220517T162747Z-001/DataCollection\\\\51\\\\PersonalAR\\\\1653003275910\\\\', 'DataCollection-20220517T162747Z-001/DataCollection\\\\51\\\\PersonalAR\\\\1653004737596\\\\', 'DataCollection-20220517T162747Z-001/DataCollection\\\\51\\\\PersonalAR\\\\1653004876859\\\\', 'DataCollection-20220517T162747Z-001/DataCollection\\\\51\\\\PersonalAR\\\\1653004957549\\\\', 'DataCollection-20220517T162747Z-001/DataCollection\\\\51\\\\PersonalAR\\\\1653005529178\\\\', 'DataCollection-20220517T162747Z-001/DataCollection\\\\51\\\\PersonalAR\\\\1653006015465\\\\', 'DataCollection-20220517T162747Z-001/DataCollection\\\\53\\\\PersonalAR\\\\1653343118871\\\\', 'DataCollection-20220517T162747Z-001/DataCollection\\\\53\\\\PersonalAR\\\\1653343599948\\\\', 'DataCollection-20220517T162747Z-001/DataCollection\\\\53\\\\PersonalAR\\\\1653344762543\\\\', 'DataCollection-20220517T162747Z-001/DataCollection\\\\53\\\\PersonalAR\\\\1653344895841\\\\', 'DataCollection-20220517T162747Z-001/DataCollection\\\\53\\\\PersonalAR\\\\1653345476443\\\\', 'DataCollection-20220517T162747Z-001/DataCollection\\\\53\\\\PersonalAR\\\\1653345978401\\\\', 'DataCollection-20220517T162747Z-001/DataCollection\\\\54\\\\PersonalAR\\\\1653407724250\\\\', 'DataCollection-20220517T162747Z-001/DataCollection\\\\54\\\\PersonalAR\\\\1653408215957\\\\', 'DataCollection-20220517T162747Z-001/DataCollection\\\\54\\\\PersonalAR\\\\1653409750443\\\\', 'DataCollection-20220517T162747Z-001/DataCollection\\\\54\\\\PersonalAR\\\\1653409802384\\\\', 'DataCollection-20220517T162747Z-001/DataCollection\\\\54\\\\PersonalAR\\\\1653410291412\\\\', 'DataCollection-20220517T162747Z-001/DataCollection\\\\54\\\\PersonalAR\\\\1653410427285\\\\', 'DataCollection-20220517T162747Z-001/DataCollection\\\\55\\\\PersonalAR\\\\1653521394150\\\\', 'DataCollection-20220517T162747Z-001/DataCollection\\\\55\\\\PersonalAR\\\\1653522071073\\\\', 'DataCollection-20220517T162747Z-001/DataCollection\\\\56\\\\PersonalAR\\\\1652895138980\\\\', 'DataCollection-20220517T162747Z-001/DataCollection\\\\56\\\\PersonalAR\\\\1652895773161\\\\', 'DataCollection-20220517T162747Z-001/DataCollection\\\\56\\\\PersonalAR\\\\1652897433858\\\\', 'DataCollection-20220517T162747Z-001/DataCollection\\\\56\\\\PersonalAR\\\\1652897996597\\\\', 'DataCollection-20220517T162747Z-001/DataCollection\\\\56\\\\PersonalAR\\\\1652898552958\\\\', 'DataCollection-20220517T162747Z-001/DataCollection\\\\57\\\\PersonalAR\\\\1653515944496\\\\', 'DataCollection-20220517T162747Z-001/DataCollection\\\\57\\\\PersonalAR\\\\1653516455138\\\\', 'DataCollection-20220517T162747Z-001/DataCollection\\\\57\\\\PersonalAR\\\\1653518075184\\\\', 'DataCollection-20220517T162747Z-001/DataCollection\\\\57\\\\PersonalAR\\\\1653518724033\\\\', 'DataCollection-20220517T162747Z-001/DataCollection\\\\57\\\\PersonalAR\\\\1653519220472\\\\', 'DataCollection-20220517T162747Z-001/DataCollection\\\\58\\\\PersonalAR\\\\1652890535596\\\\', 'DataCollection-20220517T162747Z-001/DataCollection\\\\58\\\\PersonalAR\\\\1652890896603\\\\', 'DataCollection-20220517T162747Z-001/DataCollection\\\\58\\\\PersonalAR\\\\1652891128140\\\\', 'DataCollection-20220517T162747Z-001/DataCollection\\\\58\\\\PersonalAR\\\\1652892638633\\\\', 'DataCollection-20220517T162747Z-001/DataCollection\\\\58\\\\PersonalAR\\\\1652893185961\\\\', 'DataCollection-20220517T162747Z-001/DataCollection\\\\58\\\\PersonalAR\\\\1652893710737\\\\', 'DataCollection-20220517T162747Z-001/DataCollection\\\\59\\\\PersonalAR\\\\1652906215303\\\\', 'DataCollection-20220517T162747Z-001/DataCollection\\\\59\\\\PersonalAR\\\\1652908378518\\\\', 'DataCollection-20220517T162747Z-001/DataCollection\\\\59\\\\PersonalAR\\\\1652908888416\\\\', 'DataCollection-20220517T162747Z-001/DataCollection\\\\60\\\\PersonalAR\\\\1653089092678\\\\', 'DataCollection-20220517T162747Z-001/DataCollection\\\\60\\\\PersonalAR\\\\1653089601574\\\\', 'DataCollection-20220517T162747Z-001/DataCollection\\\\60\\\\PersonalAR\\\\1653090402237\\\\', 'DataCollection-20220517T162747Z-001/DataCollection\\\\61\\\\PersonalAR\\\\1653321067382\\\\', 'DataCollection-20220517T162747Z-001/DataCollection\\\\61\\\\PersonalAR\\\\1653321947860\\\\', 'DataCollection-20220517T162747Z-001/DataCollection\\\\61\\\\PersonalAR\\\\1653323410590\\\\', 'DataCollection-20220517T162747Z-001/DataCollection\\\\61\\\\PersonalAR\\\\1653323910758\\\\', 'DataCollection-20220517T162747Z-001/DataCollection\\\\61\\\\PersonalAR\\\\1653323940409\\\\', 'DataCollection-20220517T162747Z-001/DataCollection\\\\63\\\\PersonalAR\\\\1653410348040\\\\', 'DataCollection-20220517T162747Z-001/DataCollection\\\\63\\\\PersonalAR\\\\1653411414032\\\\', 'DataCollection-20220517T162747Z-001/DataCollection\\\\63\\\\PersonalAR\\\\1653414022718\\\\', 'DataCollection-20220517T162747Z-001/DataCollection\\\\63\\\\PersonalAR\\\\1653415365940\\\\', 'DataCollection-20220517T162747Z-001/DataCollection\\\\63\\\\PersonalAR\\\\1653415937082\\\\', 'DataCollection-20220517T162747Z-001/DataCollection\\\\63\\\\PersonalAR\\\\1653416415159\\\\', 'DataCollection-20220517T162747Z-001/DataCollection\\\\64\\\\PersonalAR\\\\1653419132986\\\\', 'DataCollection-20220517T162747Z-001/DataCollection\\\\64\\\\PersonalAR\\\\1653420671261\\\\', 'DataCollection-20220517T162747Z-001/DataCollection\\\\64\\\\PersonalAR\\\\1653421152790\\\\', 'DataCollection-20220517T162747Z-001/DataCollection\\\\64\\\\PersonalAR\\\\1653421235791\\\\', 'DataCollection-20220517T162747Z-001/DataCollection\\\\65\\\\PersonalAR\\\\1653429126769\\\\', 'DataCollection-20220517T162747Z-001/DataCollection\\\\65\\\\PersonalAR\\\\1653429920573\\\\', 'DataCollection-20220517T162747Z-001/DataCollection\\\\65\\\\PersonalAR\\\\1653431926085\\\\', 'DataCollection-20220517T162747Z-001/DataCollection\\\\65\\\\PersonalAR\\\\1653432590826\\\\', 'DataCollection-20220517T162747Z-001/DataCollection\\\\68\\\\PersonalAR\\\\1653068849569\\\\', 'DataCollection-20220517T162747Z-001/DataCollection\\\\68\\\\PersonalAR\\\\1653070495768\\\\', 'DataCollection-20220517T162747Z-001/DataCollection\\\\68\\\\PersonalAR\\\\1653071069337\\\\', 'DataCollection-20220517T162747Z-001/DataCollection\\\\68\\\\PersonalAR\\\\1653071546954\\\\', 'DataCollection-20220517T162747Z-001/DataCollection\\\\69\\\\PersonalAR\\\\1653435146693\\\\', 'DataCollection-20220517T162747Z-001/DataCollection\\\\69\\\\PersonalAR\\\\1653435415487\\\\', 'DataCollection-20220517T162747Z-001/DataCollection\\\\69\\\\PersonalAR\\\\1653436739767\\\\', 'DataCollection-20220517T162747Z-001/DataCollection\\\\69\\\\PersonalAR\\\\1653437256674\\\\', 'DataCollection-20220517T162747Z-001/DataCollection\\\\69\\\\PersonalAR\\\\1653437339335\\\\', 'DataCollection-20220517T162747Z-001/DataCollection\\\\70\\\\PersonalAR\\\\1652975986052\\\\', 'DataCollection-20220517T162747Z-001/DataCollection\\\\70\\\\PersonalAR\\\\1652976611625\\\\', 'DataCollection-20220517T162747Z-001/DataCollection\\\\70\\\\PersonalAR\\\\1652978709050\\\\', 'DataCollection-20220517T162747Z-001/DataCollection\\\\70\\\\PersonalAR\\\\1652979227979\\\\', 'DataCollection-20220517T162747Z-001/DataCollection\\\\70\\\\PersonalAR\\\\1652979350461\\\\', 'DataCollection-20220517T162747Z-001/DataCollection\\\\71\\\\PersonalAR\\\\1653337086285\\\\', 'DataCollection-20220517T162747Z-001/DataCollection\\\\71\\\\PersonalAR\\\\1653338424232\\\\', 'DataCollection-20220517T162747Z-001/DataCollection\\\\71\\\\PersonalAR\\\\1653339558711\\\\', 'DataCollection-20220517T162747Z-001/DataCollection\\\\78\\\\PersonalAR\\\\1653063249891\\\\', 'DataCollection-20220517T162747Z-001/DataCollection\\\\78\\\\PersonalAR\\\\1653065588096\\\\', 'DataCollection-20220517T162747Z-001/DataCollection\\\\78\\\\PersonalAR\\\\1653066195796\\\\', 'DataCollection-20220517T162747Z-001/DataCollection\\\\78\\\\PersonalAR\\\\1653066678184\\\\', 'DataCollection-20220517T162747Z-001/DataCollection\\\\79\\\\PersonalAR\\\\1653592694984\\\\', 'DataCollection-20220517T162747Z-001/DataCollection\\\\79\\\\PersonalAR\\\\1653594456431\\\\', 'DataCollection-20220517T162747Z-001/DataCollection\\\\79\\\\PersonalAR\\\\1653594994876\\\\', 'DataCollection-20220517T162747Z-001/DataCollection\\\\79\\\\PersonalAR\\\\1653595070648\\\\', 'DataCollection-20220517T162747Z-001/DataCollection\\\\82\\\\PersonalAR\\\\1653597518094\\\\', 'DataCollection-20220517T162747Z-001/DataCollection\\\\82\\\\PersonalAR\\\\1653598829536\\\\', 'DataCollection-20220517T162747Z-001/DataCollection\\\\82\\\\PersonalAR\\\\1653599400925\\\\', 'DataCollection-20220517T162747Z-001/DataCollection\\\\83\\\\PersonalAR\\\\1653326340245\\\\', 'DataCollection-20220517T162747Z-001/DataCollection\\\\83\\\\PersonalAR\\\\1653326676840\\\\', 'DataCollection-20220517T162747Z-001/DataCollection\\\\83\\\\PersonalAR\\\\1653328208972\\\\', 'DataCollection-20220517T162747Z-001/DataCollection\\\\84\\\\PersonalAR\\\\1653602626391\\\\', 'DataCollection-20220517T162747Z-001/DataCollection\\\\84\\\\PersonalAR\\\\1653604023476\\\\', 'DataCollection-20220517T162747Z-001/DataCollection\\\\84\\\\PersonalAR\\\\1653604528225\\\\', 'DataCollection-20220517T162747Z-001/DataCollection\\\\84\\\\PersonalAR\\\\1653604610535\\\\', 'DataCollection-20220517T162747Z-001/DataCollection\\\\86\\\\PersonalAR\\\\1653498953974\\\\', 'DataCollection-20220517T162747Z-001/DataCollection\\\\86\\\\PersonalAR\\\\1653501296525\\\\']\n"
     ]
    }
   ],
   "source": [
    "# Gather all data from all participants\n",
    "\n",
    "data_collection_root = \"DataCollection-20220517T162747Z-001/DataCollection\"\n",
    "session_paths = glob.glob(f\"{data_collection_root}/*/PersonalAR/*/\")\n",
    "\n",
    "print(session_paths)\n",
    "\n",
    "all_frames = []\n",
    "for path in session_paths:\n",
    "    all_frames.extend(extract_frames(path))\n"
   ]
  },
  {
   "cell_type": "code",
   "execution_count": 249,
   "metadata": {},
   "outputs": [
    {
     "name": "stdout",
     "output_type": "stream",
     "text": [
      "{'1652717537747': '30', '1652717600748': '30', '1652718942341': '30', '1652722541690': '31', '1652723950882': '31', '1652733257952': '32', '1652734562184': '32', '1652735244744': '32', '1652735718661': '32', '1652744125647': '34', '1652745462356': '34', '1652746123022': '34', '1652746608335': '34', '1652802782398': '35', '1652804206182': '35', '1652804924104': '35', '1652809236423': '36', '1652810350745': '36', '1652810541606': '36', '1652811191755': '36', '1652811681662': '36', '1652814317933': '37', '1652815973439': '37', '1652816580566': '37', '1653585763266': '38', '1653587656634': '38', '1653588100124': '38', '1653589812911': '38', '1653590383887': '38', '1652825415163': '39', '1652827225214': '39', '1652827312130': '39', '1652827690145': '39', '1652828210482': '39', '1652831168741': '40', '1652833864026': '40', '1652834380225': '40', '1652834478631': '40', '1652834896726': '40', '1652834962008': '40', '1652835523560': '40', '1652900366942': '41', '1652900706647': '41', '1652902437032': '41', '1652902939405': '41', '1652987329331': '43', '1652987940341': '43', '1652988688884': '43', '1652989249004': '43', '1652992328132': '44', '1652993844682': '44', '1652994457341': '44', '1652994513842': '44', '1652997534390': '45', '1652997625131': '45', '1652998088189': '45', '1652999718380': '45', '1653000276459': '45', '1653000371666': '45', '1653083540088': '46', '1653084439447': '46', '1653086116099': '46', '1653086693958': '46', '1653087211808': '46', '1653606734394': '47', '1653607116380': '47', '1653608459555': '47', '1653609002504': '47', '1653609146946': '47', '1653425157642': '48', '1653427169910': '48', '1653427516425': '48', '1653428159654': '48', '1652911864707': '49', '1652912035520': '49', '1652913853966': '49', '1652914069876': '49', '1652914687548': '49', '1652915177216': '49', '1653002736538': '51', '1653003275910': '51', '1653004737596': '51', '1653004876859': '51', '1653004957549': '51', '1653005529178': '51', '1653006015465': '51', '1653343118871': '53', '1653343599948': '53', '1653344762543': '53', '1653344895841': '53', '1653345476443': '53', '1653345978401': '53', '1653407724250': '54', '1653408215957': '54', '1653409750443': '54', '1653409802384': '54', '1653410291412': '54', '1653410427285': '54', '1653521394150': '55', '1653522071073': '55', '1652895138980': '56', '1652895773161': '56', '1652897433858': '56', '1652897996597': '56', '1652898552958': '56', '1653515944496': '57', '1653516455138': '57', '1653518075184': '57', '1653518724033': '57', '1653519220472': '57', '1652890535596': '58', '1652890896603': '58', '1652891128140': '58', '1652892638633': '58', '1652893185961': '58', '1652893710737': '58', '1652906215303': '59', '1652908378518': '59', '1652908888416': '59', '1653089092678': '60', '1653089601574': '60', '1653090402237': '60', '1653321067382': '61', '1653321947860': '61', '1653323410590': '61', '1653323910758': '61', '1653323940409': '61', '1653410348040': '63', '1653411414032': '63', '1653414022718': '63', '1653415365940': '63', '1653415937082': '63', '1653416415159': '63', '1653419132986': '64', '1653420671261': '64', '1653421152790': '64', '1653421235791': '64', '1653429126769': '65', '1653429920573': '65', '1653431926085': '65', '1653432590826': '65', '1653068849569': '68', '1653070495768': '68', '1653071069337': '68', '1653071546954': '68', '1653435146693': '69', '1653435415487': '69', '1653436739767': '69', '1653437256674': '69', '1653437339335': '69', '1652975986052': '70', '1652976611625': '70', '1652978709050': '70', '1652979227979': '70', '1652979350461': '70', '1653337086285': '71', '1653338424232': '71', '1653339558711': '71', '1653063249891': '78', '1653065588096': '78', '1653066195796': '78', '1653066678184': '78', '1653592694984': '79', '1653594456431': '79', '1653594994876': '79', '1653595070648': '79', '1653597518094': '82', '1653598829536': '82', '1653599400925': '82', '1653326340245': '83', '1653326676840': '83', '1653328208972': '83', '1653602626391': '84', '1653604023476': '84', '1653604528225': '84', '1653604610535': '84', '1653498953974': '86', '1653501296525': '86'}\n"
     ]
    }
   ],
   "source": [
    "\n",
    "user_dirs = glob.glob(f\"{data_collection_root}/*\")\n",
    "# Create session to user id mapping\n",
    "# print(user_dirs)\n",
    "\n",
    "session_map = {}\n",
    "for dir in user_dirs:\n",
    "    user_id = os.path.split(dir)[1]\n",
    "    # print(user_id)\n",
    "    session_root = os.path.join(dir, \"PersonalAR\")\n",
    "    session_paths = glob.glob(f\"{session_root}/*\")\n",
    "    for session_path in session_paths:\n",
    "        session_id = os.path.split(session_path)[1][0:13]\n",
    "        session_map[session_id] = user_id\n",
    "\n",
    "print(session_map)"
   ]
  },
  {
   "cell_type": "code",
   "execution_count": 250,
   "metadata": {},
   "outputs": [],
   "source": [
    "\n",
    "framesUnpacked = list(itertools.chain(*all_frames))\n",
    "framesDf = pandas.DataFrame(framesUnpacked)\n",
    "framesDf = framesDf.sort_values(by='timestamp')"
   ]
  },
  {
   "cell_type": "code",
   "execution_count": 251,
   "metadata": {},
   "outputs": [],
   "source": [
    "experimentEvents = framesDf[framesDf['experimentEvents'].str.len() > 0].experimentEvents.tolist()\n",
    "experimentsUnpacked = list(itertools.chain(*experimentEvents))\n",
    "experimentsDf = pandas.DataFrame(experimentsUnpacked)\n",
    "experimentsDf['realID'] = experimentsDf.apply(lambda row: int(session_map[row['userID']]), axis = 1)\n",
    "\n",
    "experimentsDf = experimentsDf.sort_values(by=\"unixTime\").reset_index()\n",
    "\n",
    "# Drop crashed or accidental task starts and stops\n",
    "experimentsDf = experimentsDf.drop([60, 69, 122, 179, 188, 189, 206, 225, 250, 259]).reset_index()\n",
    "\n",
    "# experimentsDf\n"
   ]
  },
  {
   "cell_type": "code",
   "execution_count": 252,
   "metadata": {},
   "outputs": [],
   "source": [
    "\n",
    "# Remove participants \n",
    "# experimentsDf = experimentsDf.loc[experimentsDf['realID'] != '51']\n",
    "\n",
    "# Delete training\n",
    "experimentsDf['taskOrder'] = experimentsDf.index % 8\n",
    "# experimentsDf = experimentsDf[experimentsDf['taskOrder'] >= 4]\n",
    "\n",
    "# Filter select participants here if you want specific groups/demographics analysis\n",
    "# experimentsDf = experimentsDf[experimentsDf['realID'].isin([34, 32, 30, 33, 36, 35, 57, 41, 59, 51, 43, 78, 46, 68, 61, 83])]\n",
    "\n",
    "# Create list of valid task time ranges\n",
    "timeRanges = []\n",
    "currentStartTaskRow = None\n",
    "for row in experimentsDf.itertuples():\n",
    "    if row.eventName == \"StartTask\":\n",
    "        currentStartTaskRow = row\n",
    "    if row.eventName == \"EndTask\" and currentStartTaskRow is not None and currentStartTaskRow.sessionType == row.sessionType and currentStartTaskRow.realID == row.realID:\n",
    "        timeRanges.append((row.realID, row.sessionType, currentStartTaskRow.unixTime, row.unixTime))\n",
    "\n",
    "# pprint.pprint(timeRanges)\n",
    "\n",
    "# experimentsDf\n",
    "\n"
   ]
  },
  {
   "cell_type": "code",
   "execution_count": 311,
   "metadata": {},
   "outputs": [
    {
     "name": "stdout",
     "output_type": "stream",
     "text": [
      "----- ALL TRIALS -----\n",
      "Layerable N: 82, Immersive N: 82\n",
      "Layerable Score: M 6.89 | SD 3.45 | SE 0.38\n",
      "Immersive Score: M 5.90 | SD 2.39 | SE 0.26\n",
      "Ttest_relResult(statistic=3.1748209254951045, pvalue=0.0021206355414542175)\n"
     ]
    },
    {
     "ename": "AttributeError",
     "evalue": "'AxesSubplot' object has no attribute 'datavalues'",
     "output_type": "error",
     "traceback": [
      "\u001b[1;31m---------------------------------------------------------------------------\u001b[0m",
      "\u001b[1;31mAttributeError\u001b[0m                            Traceback (most recent call last)",
      "\u001b[1;32m~\\AppData\\Local\\Temp\\ipykernel_19840\\4118228487.py\u001b[0m in \u001b[0;36m<module>\u001b[1;34m\u001b[0m\n\u001b[0;32m     40\u001b[0m \u001b[1;33m\u001b[0m\u001b[0m\n\u001b[0;32m     41\u001b[0m \u001b[1;33m\u001b[0m\u001b[0m\n\u001b[1;32m---> 42\u001b[1;33m \u001b[0mPrintTaskEventStats\u001b[0m\u001b[1;33m(\u001b[0m\u001b[0mexperimentsDf\u001b[0m\u001b[1;33m,\u001b[0m \u001b[0mtitle\u001b[0m\u001b[1;33m=\u001b[0m\u001b[1;34m\"----- ALL TRIALS -----\"\u001b[0m\u001b[1;33m)\u001b[0m\u001b[1;33m\u001b[0m\u001b[1;33m\u001b[0m\u001b[0m\n\u001b[0m\u001b[0;32m     43\u001b[0m \u001b[0mprint\u001b[0m\u001b[1;33m(\u001b[0m\u001b[1;34m\"\\n\"\u001b[0m\u001b[1;33m)\u001b[0m\u001b[1;33m\u001b[0m\u001b[1;33m\u001b[0m\u001b[0m\n\u001b[0;32m     44\u001b[0m \u001b[1;33m\u001b[0m\u001b[0m\n",
      "\u001b[1;32m~\\AppData\\Local\\Temp\\ipykernel_19840\\4118228487.py\u001b[0m in \u001b[0;36mPrintTaskEventStats\u001b[1;34m(df, title)\u001b[0m\n\u001b[0;32m     37\u001b[0m     \u001b[0mbarplot\u001b[0m \u001b[1;33m=\u001b[0m \u001b[0mplotDf\u001b[0m\u001b[1;33m.\u001b[0m\u001b[0mplot\u001b[0m\u001b[1;33m.\u001b[0m\u001b[0mbarh\u001b[0m\u001b[1;33m(\u001b[0m\u001b[0my\u001b[0m \u001b[1;33m=\u001b[0m \u001b[1;34m\"mean\"\u001b[0m\u001b[1;33m,\u001b[0m \u001b[0mxerr\u001b[0m \u001b[1;33m=\u001b[0m \u001b[1;34m\"sem\"\u001b[0m\u001b[1;33m)\u001b[0m\u001b[1;33m\u001b[0m\u001b[1;33m\u001b[0m\u001b[0m\n\u001b[0;32m     38\u001b[0m \u001b[1;33m\u001b[0m\u001b[0m\n\u001b[1;32m---> 39\u001b[1;33m     \u001b[0max\u001b[0m\u001b[1;33m.\u001b[0m\u001b[0mbar_label\u001b[0m\u001b[1;33m(\u001b[0m\u001b[0mbarplot\u001b[0m\u001b[1;33m)\u001b[0m\u001b[1;33m\u001b[0m\u001b[1;33m\u001b[0m\u001b[0m\n\u001b[0m\u001b[0;32m     40\u001b[0m \u001b[1;33m\u001b[0m\u001b[0m\n\u001b[0;32m     41\u001b[0m \u001b[1;33m\u001b[0m\u001b[0m\n",
      "\u001b[1;32mc:\\Users\\yukib\\AppData\\Local\\Programs\\Python\\Python37\\lib\\site-packages\\matplotlib\\axes\\_axes.py\u001b[0m in \u001b[0;36mbar_label\u001b[1;34m(self, container, labels, fmt, label_type, padding, **kwargs)\u001b[0m\n\u001b[0;32m   2606\u001b[0m         \u001b[0mbars\u001b[0m \u001b[1;33m=\u001b[0m \u001b[0mcontainer\u001b[0m\u001b[1;33m.\u001b[0m\u001b[0mpatches\u001b[0m\u001b[1;33m\u001b[0m\u001b[1;33m\u001b[0m\u001b[0m\n\u001b[0;32m   2607\u001b[0m         \u001b[0merrorbar\u001b[0m \u001b[1;33m=\u001b[0m \u001b[0mcontainer\u001b[0m\u001b[1;33m.\u001b[0m\u001b[0merrorbar\u001b[0m\u001b[1;33m\u001b[0m\u001b[1;33m\u001b[0m\u001b[0m\n\u001b[1;32m-> 2608\u001b[1;33m         \u001b[0mdatavalues\u001b[0m \u001b[1;33m=\u001b[0m \u001b[0mcontainer\u001b[0m\u001b[1;33m.\u001b[0m\u001b[0mdatavalues\u001b[0m\u001b[1;33m\u001b[0m\u001b[1;33m\u001b[0m\u001b[0m\n\u001b[0m\u001b[0;32m   2609\u001b[0m         \u001b[0morientation\u001b[0m \u001b[1;33m=\u001b[0m \u001b[0mcontainer\u001b[0m\u001b[1;33m.\u001b[0m\u001b[0morientation\u001b[0m\u001b[1;33m\u001b[0m\u001b[1;33m\u001b[0m\u001b[0m\n\u001b[0;32m   2610\u001b[0m \u001b[1;33m\u001b[0m\u001b[0m\n",
      "\u001b[1;31mAttributeError\u001b[0m: 'AxesSubplot' object has no attribute 'datavalues'"
     ]
    },
    {
     "data": {
      "image/png": "[encoded data removed]",
      "text/plain": [
       "<Figure size 640x480 with 1 Axes>"
      ]
     },
     "metadata": {},
     "output_type": "display_data"
    },
    {
     "data": {
      "image/png": "[encoded data removed]",
      "text/plain": [
       "<Figure size 640x480 with 1 Axes>"
      ]
     },
     "metadata": {},
     "output_type": "display_data"
    }
   ],
   "source": [
    "def PrintTaskEventStats(df, title=None):\n",
    "    print(title)\n",
    "    layerableDf = df[(df[\"eventName\"] == \"EndTask\") & (df[\"sessionType\"] == \"Mode A\")]\n",
    "    immersiveDf = df[(df[\"eventName\"] == \"EndTask\") & (df[\"sessionType\"] == \"Mode B\")]\n",
    "    print(f\"Layerable N: {layerableDf['eventName'].count()}, Immersive N: {immersiveDf['eventName'].count()}\")\n",
    "\n",
    "    layerableAvgScore = layerableDf['score'].mean()\n",
    "    layerableScoreStd = layerableDf['score'].std()\n",
    "    layerableScoreSem = layerableDf['score'].sem()\n",
    "\n",
    "    print(f\"Layerable Score: M {layerableAvgScore:.2f} | SD {layerableScoreStd:.2f} | SE {layerableScoreSem:.2f}\")\n",
    "\n",
    "    immersiveAvgScore = immersiveDf['score'].mean()\n",
    "    immersiveScoreStd = immersiveDf['score'].std()\n",
    "    immersiveScoreSem = immersiveDf['score'].sem()\n",
    "\n",
    "    print(f\"Immersive Score: M {immersiveAvgScore:.2f} | SD {immersiveScoreStd:.2f} | SE {immersiveScoreSem:.2f}\")\n",
    "\n",
    "    # sortedLayerableScores  = layerableDf[['realID', 'score', 'unixTime']].sort_values(by='unixTime').rename(columns={'score': 'layerableScore'}).reset_index()\n",
    "    # sortedImmersiveScores = immersiveDf[['realID', 'score', 'unixTime']].sort_values(by='unixTime').rename(columns={'score': 'immersiveScore'}).reset_index()\n",
    "    # # print(sortedImmersiveScores)\n",
    "\n",
    "    # scorePlotDf = sortedLayerableScores.join(sortedImmersiveScores['immersiveScore'])\n",
    "    # scorePlotDf = scorePlotDf[['layerableScore', 'immersiveScore']]\n",
    "\n",
    "    # scorePlotDf.plot(kind=\"barh\", y = \"mean\", xerr = \"std\", title = title)\n",
    "\n",
    "    # print(scipy.stats.ttest_ind(layerableDf['score'], immersiveDf['score']))\n",
    "    print(scipy.stats.ttest_rel(layerableDf['score'], immersiveDf['score']))\n",
    "\n",
    "    plotDf = df[df['eventName'] == 'EndTask'][['sessionType', 'score']]\n",
    "    plotDf = plotDf.groupby(\"sessionType\").score.agg([np.mean, scipy.stats.sem])\n",
    "\n",
    "    # barplot = plotDf.plot(kind=\"barh\", y = \"mean\", xerr = \"sem\", title = title)\n",
    "    barplot = plotDf.plot.barh(y = \"mean\", xerr = \"sem\")\n",
    "\n",
    "\n",
    "PrintTaskEventStats(experimentsDf, title=\"----- ALL TRIALS -----\")\n",
    "print(\"\\n\")\n",
    "\n",
    "noTrainingDf = experimentsDf[experimentsDf['taskOrder'] >= 4]\n",
    "PrintTaskEventStats(noTrainingDf, title=\"----- EXCLUDE TRAINING TRIALS -----\")\n",
    "print(\"\\n\")\n",
    "\n",
    "expertsDf = experimentsDf[experimentsDf['realID'].isin([34, 32, 30, 33, 36, 35, 57, 41, 59, 51, 43, 78, 46, 68, 61, 83, 53, 54, 65, 69, 79, 74, 86, 82])]\n",
    "PrintTaskEventStats(expertsDf, title=\"----- EXPERTS TRIALS -----\")"
   ]
  },
  {
   "cell_type": "code",
   "execution_count": 254,
   "metadata": {},
   "outputs": [],
   "source": [
    "codeEvents = framesDf[framesDf['codesEvents'].str.len() > 0].codesEvents.tolist()\n",
    "codesUnpacked = list(itertools.chain(*codeEvents))\n",
    "codesDf = pandas.DataFrame(codesUnpacked).sort_values(by=\"unixTime\").reset_index()\n",
    "\n",
    "timezone = pytz.timezone('US/Pacific')\n",
    "\n",
    "def readableDatetime(row):\n",
    "    dt = pandas.to_datetime(row.unixTime, unit='ms')\n",
    "    return dt.tz_localize('UTC').tz_convert('US/Pacific')\n",
    "\n",
    "codesDf['dateTime'] = codesDf.apply(lambda row: readableDatetime(row), axis=1)\n",
    "\n",
    "def getMatchingTimeRange(row, validTimeRanges):\n",
    "    for timeRange in validTimeRanges:\n",
    "        if (row.unixTime > timeRange[2] and row.unixTime < timeRange[3]):\n",
    "            return timeRange\n",
    "    else:\n",
    "        return None\n",
    "\n",
    "def getIsValid(row, validTimeRanges):\n",
    "    return any(row.unixTime > timeRange[2] and row.unixTime < timeRange[3] for timeRange in validTimeRanges)\n",
    "\n",
    "def getRealID(row, validTimeRanges):\n",
    "    matchingRange = getMatchingTimeRange(row, validTimeRanges)\n",
    "    return matchingRange[0] if matchingRange is not None else None\n",
    "\n",
    "def getSessionType(row, validTimeRanges):\n",
    "    matchingRange = getMatchingTimeRange(row, validTimeRanges)\n",
    "    return matchingRange[1] if matchingRange is not None else None\n",
    "\n",
    "codesDf['isValid'] = codesDf.apply(lambda row: getIsValid(row, timeRanges), axis=1)\n",
    "codesDf['sessionType'] = codesDf.apply(lambda row: getSessionType(row, timeRanges), axis=1)\n",
    "codesDf['realID'] = codesDf.apply(lambda row: getRealID(row, timeRanges), axis=1)\n",
    "\n",
    "codesDf = codesDf[codesDf['isValid'] == True]\n",
    "\n",
    "codesDf['failCount'] = codesDf.apply(lambda row: 1 if row['success'] == False else 0, axis=1)\n",
    "codesDf['successCount'] = codesDf.apply(lambda row: 1 if row['success'] == True else 0, axis=1)\n"
   ]
  },
  {
   "cell_type": "code",
   "execution_count": 255,
   "metadata": {},
   "outputs": [
    {
     "name": "stdout",
     "output_type": "stream",
     "text": [
      "Layerable Num Fails: 1.707 ± 1.707\n",
      "Immersive Num Fails: 1.659 ± 2.020\n",
      "Ttest_indResult(statistic=0.11811801751674392, pvalue=0.9062702198207788)\n",
      "Ttest_relResult(statistic=0.1332149726057591, pvalue=0.8946913159386288)\n"
     ]
    }
   ],
   "source": [
    "\n",
    "# Number of errors\n",
    "layerableFailCounts = codesDf[codesDf['sessionType'] == 'Mode A'].groupby('realID')['failCount'].sum()\n",
    "immersiveFailCounts = codesDf[codesDf['sessionType'] == 'Mode B'].groupby('realID')['failCount'].sum()\n",
    "layerableFailMean = layerableFailCounts.mean()\n",
    "layerableFailStd = layerableFailCounts.std()\n",
    "immersiveFailMean = immersiveFailCounts.mean()\n",
    "immersiveFailStd = immersiveFailCounts.std()\n",
    "\n",
    "print(f\"Layerable Num Fails: {layerableFailMean:.3f} ± {layerableFailStd:.3f}\")\n",
    "print(f\"Immersive Num Fails: {immersiveFailMean:.3f} ± {immersiveFailStd:.3f}\")\n",
    "\n",
    "print(scipy.stats.ttest_ind(layerableFailCounts, immersiveFailCounts))\n",
    "print(scipy.stats.ttest_rel(layerableFailCounts, immersiveFailCounts))\n"
   ]
  },
  {
   "cell_type": "code",
   "execution_count": 256,
   "metadata": {},
   "outputs": [
    {
     "name": "stdout",
     "output_type": "stream",
     "text": [
      "Layerable Error Rate: 0.11031 ± 0.11418\n",
      "Immersive Error Rate: 0.11259 ± 0.12406\n",
      "Ttest_indResult(statistic=-0.0868002569316258, pvalue=0.9310471745115505)\n",
      "Ttest_relResult(statistic=-0.10545814558075492, pvalue=0.9165393603008123)\n"
     ]
    }
   ],
   "source": [
    "\n",
    "# Error rates\n",
    "layerableTotalsDf = codesDf[codesDf['sessionType'] == 'Mode A'].groupby('realID')['success'].count().reset_index()\n",
    "layerableTotalsDf = layerableTotalsDf.rename(columns={'success' : 'total'})\n",
    "immersiveTotalsDf = codesDf[codesDf['sessionType'] == 'Mode B'].groupby('realID')['success'].count().reset_index()\n",
    "immersiveTotalsDf = immersiveTotalsDf.rename(columns={'success' : 'total'})\n",
    "\n",
    "layerableTotalsDf = layerableTotalsDf.join(layerableFailCounts, on='realID')\n",
    "layerableTotalsDf['errorRate'] = layerableTotalsDf.apply(lambda row: row['failCount'] / row['total'], axis=1)\n",
    "\n",
    "immersiveTotalsDf = immersiveTotalsDf.join(immersiveFailCounts, on='realID')\n",
    "immersiveTotalsDf['errorRate'] = immersiveTotalsDf.apply(lambda row: row['failCount'] / row['total'], axis=1)\n",
    "\n",
    "layerableAvgError = layerableTotalsDf['errorRate'].mean()\n",
    "layerableErrorStd = layerableTotalsDf['errorRate'].std()\n",
    "\n",
    "print(f\"Layerable Error Rate: {layerableAvgError:.5f} ± {layerableErrorStd:.5f}\")\n",
    "\n",
    "immersiveAvgError = immersiveTotalsDf['errorRate'].mean()\n",
    "immersiveErrorStd = immersiveTotalsDf['errorRate'].std()\n",
    "\n",
    "print(f\"Immersive Error Rate: {immersiveAvgError:.5f} ± {immersiveErrorStd:.5f}\")\n",
    "\n",
    "print(scipy.stats.ttest_ind(layerableTotalsDf['errorRate'], immersiveTotalsDf['errorRate']))\n",
    "print(scipy.stats.ttest_rel(layerableTotalsDf['errorRate'], immersiveTotalsDf['errorRate']))"
   ]
  },
  {
   "cell_type": "code",
   "execution_count": 257,
   "metadata": {},
   "outputs": [],
   "source": [
    "# Extract per-user app events\n",
    "\n",
    "framesWithAppEvents = framesDf[framesDf['appEvents'].str.len() > 0]\n",
    "\n",
    "\n",
    "\n",
    "# appEvents = framesDf[framesDf['appEvents'].str.len() > 0].appEvents.tolist()\n",
    "# appsUnpacked = list(itertools.chain(*appEvents))\n",
    "# appsDf = pandas.DataFrame(appsUnpacked).sort_values(by='unixTime')\n",
    "# appsDf"
   ]
  },
  {
   "cell_type": "code",
   "execution_count": null,
   "metadata": {},
   "outputs": [],
   "source": []
  }
 ],
 "metadata": {
  "interpreter": {
   "hash": "4a9cc3c3c014d02a56073e15326f7c1c20533253fc9d6fbdea1fbba4e57d931b"
  },
  "kernelspec": {
   "display_name": "Python 3.7.8 64-bit",
   "language": "python",
   "name": "python3"
  },
  "language_info": {
   "codemirror_mode": {
    "name": "ipython",
    "version": 3
   },
   "file_extension": ".py",
   "mimetype": "text/x-python",
   "name": "python",
   "nbconvert_exporter": "python",
   "pygments_lexer": "ipython3",
   "version": "3.7.8"
  },
  "orig_nbformat": 4
 },
 "nbformat": 4,
 "nbformat_minor": 2
}
