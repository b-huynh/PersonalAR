{
  "cells": [
    {
      "cell_type": "code",
      "execution_count": 3,
      "metadata": {},
      "outputs": [],
      "source": [
        "import json\n",
        "import os"
      ]
    },
    {
      "cell_type": "code",
      "execution_count": 4,
      "metadata": {},
      "outputs": [
        {
          "name": "stdout",
          "output_type": "stream",
          "text": [
            "Files and directories in ' ExperimentData// ' :\n",
            "['RecordStudy_Session_0_1651769506984.json', 'RecordStudy_Session_10_1651769506984.json', 'RecordStudy_Session_11_1651769506984.json', 'RecordStudy_Session_12_1651769506984.json', 'RecordStudy_Session_13_1651769506984.json', 'RecordStudy_Session_14_1651769506984.json', 'RecordStudy_Session_15_1651769506984.json', 'RecordStudy_Session_16_1651769506984.json', 'RecordStudy_Session_17_1651769506984.json', 'RecordStudy_Session_18_1651769506984.json', 'RecordStudy_Session_19_1651769506984.json', 'RecordStudy_Session_1_1651769506984.json', 'RecordStudy_Session_20_1651769506984.json', 'RecordStudy_Session_21_1651769506984.json', 'RecordStudy_Session_22_1651769506984.json', 'RecordStudy_Session_23_1651769506984.json', 'RecordStudy_Session_24_1651769506984.json', 'RecordStudy_Session_25_1651769506984.json', 'RecordStudy_Session_26_1651769506984.json', 'RecordStudy_Session_27_1651769506984.json', 'RecordStudy_Session_28_1651769506984.json', 'RecordStudy_Session_29_1651769506984.json', 'RecordStudy_Session_2_1651769506984.json', 'RecordStudy_Session_30_1651769506984.json', 'RecordStudy_Session_31_1651769506984.json', 'RecordStudy_Session_32_1651769506984.json', 'RecordStudy_Session_33_1651769506984.json', 'RecordStudy_Session_34_1651769506984.json', 'RecordStudy_Session_35_1651769506984.json', 'RecordStudy_Session_36_1651769506984.json', 'RecordStudy_Session_37_1651769506984.json', 'RecordStudy_Session_38_1651769506984.json', 'RecordStudy_Session_39_1651769506984.json', 'RecordStudy_Session_3_1651769506984.json', 'RecordStudy_Session_40_1651769506984.json', 'RecordStudy_Session_41_1651769506984.json', 'RecordStudy_Session_42_1651769506984.json', 'RecordStudy_Session_43_1651769506984.json', 'RecordStudy_Session_44_1651769506984.json', 'RecordStudy_Session_45_1651769506984.json', 'RecordStudy_Session_46_1651769506984.json', 'RecordStudy_Session_47_1651769506984.json', 'RecordStudy_Session_48_1651769506984.json', 'RecordStudy_Session_49_1651769506984.json', 'RecordStudy_Session_4_1651769506984.json', 'RecordStudy_Session_50_1651769506984.json', 'RecordStudy_Session_51_1651769506984.json', 'RecordStudy_Session_52_1651769506984.json', 'RecordStudy_Session_53_1651769506984.json', 'RecordStudy_Session_54_1651769506984.json', 'RecordStudy_Session_55_1651769506984.json', 'RecordStudy_Session_56_1651769506984.json', 'RecordStudy_Session_57_1651769506984.json', 'RecordStudy_Session_58_1651769506984.json', 'RecordStudy_Session_59_1651769506984.json', 'RecordStudy_Session_5_1651769506984.json', 'RecordStudy_Session_60_1651769506984.json', 'RecordStudy_Session_61_1651769506984.json', 'RecordStudy_Session_62_1651769506984.json', 'RecordStudy_Session_63_1651769506984.json', 'RecordStudy_Session_64_1651769506984.json', 'RecordStudy_Session_65_1651769506984.json', 'RecordStudy_Session_66_1651769506984.json', 'RecordStudy_Session_67_1651769506984.json', 'RecordStudy_Session_68_1651769506984.json', 'RecordStudy_Session_69_1651769506984.json', 'RecordStudy_Session_6_1651769506984.json', 'RecordStudy_Session_70_1651769506984.json', 'RecordStudy_Session_71_1651769506984.json', 'RecordStudy_Session_7_1651769506984.json', 'RecordStudy_Session_8_1651769506984.json', 'RecordStudy_Session_9_1651769506984.json']\n"
          ]
        }
      ],
      "source": [
        "path = \"ExperimentData//\"\n",
        "dir_list = os.listdir(path)\n",
        " \n",
        "print(\"Files and directories in '\", path, \"' :\")\n",
        " \n",
        "# prints all files\n",
        "print(dir_list)\n"
      ]
    },
    {
      "cell_type": "code",
      "execution_count": 8,
      "metadata": {},
      "outputs": [],
      "source": [
        "appEvents = []\n",
        "codesEvents = []\n",
        "experimentEvents = []\n",
        "\n",
        "def parseData(json_data):\n",
        "    frames = json_data[\"frames\"]\n",
        "    for frame in frames:\n",
        "        appEvent = frame[\"appEvents\"]\n",
        "        codeEvent = frame[\"codesEvents\"]\n",
        "        experimentEvent = frame[\"experimentEvents\"]\n",
        "        if appEvent:\n",
        "            appEvents.append(appEvent)\n",
        "        if codeEvent:\n",
        "            codesEvents.append(codeEvent)\n",
        "        if experimentEvent:\n",
        "            experimentEvents.append(experimentEvent)\n"
      ]
    },
    {
      "cell_type": "code",
      "execution_count": 9,
      "metadata": {},
      "outputs": [
        {
          "name": "stdout",
          "output_type": "stream",
          "text": [
            "RecordStudy_Session_0_1651769506984.json\n",
            "RecordStudy_Session_10_1651769506984.json\n",
            "RecordStudy_Session_11_1651769506984.json\n",
            "RecordStudy_Session_12_1651769506984.json\n",
            "RecordStudy_Session_13_1651769506984.json\n",
            "RecordStudy_Session_14_1651769506984.json\n",
            "RecordStudy_Session_15_1651769506984.json\n",
            "RecordStudy_Session_16_1651769506984.json\n",
            "RecordStudy_Session_17_1651769506984.json\n",
            "RecordStudy_Session_18_1651769506984.json\n",
            "RecordStudy_Session_19_1651769506984.json\n",
            "RecordStudy_Session_1_1651769506984.json\n",
            "RecordStudy_Session_20_1651769506984.json\n",
            "RecordStudy_Session_21_1651769506984.json\n",
            "RecordStudy_Session_22_1651769506984.json\n",
            "RecordStudy_Session_23_1651769506984.json\n",
            "RecordStudy_Session_24_1651769506984.json\n",
            "RecordStudy_Session_25_1651769506984.json\n",
            "RecordStudy_Session_26_1651769506984.json\n",
            "RecordStudy_Session_27_1651769506984.json\n",
            "RecordStudy_Session_28_1651769506984.json\n",
            "RecordStudy_Session_29_1651769506984.json\n",
            "RecordStudy_Session_2_1651769506984.json\n",
            "RecordStudy_Session_30_1651769506984.json\n",
            "RecordStudy_Session_31_1651769506984.json\n",
            "RecordStudy_Session_32_1651769506984.json\n",
            "RecordStudy_Session_33_1651769506984.json\n",
            "RecordStudy_Session_34_1651769506984.json\n",
            "RecordStudy_Session_35_1651769506984.json\n",
            "RecordStudy_Session_36_1651769506984.json\n",
            "RecordStudy_Session_37_1651769506984.json\n",
            "RecordStudy_Session_38_1651769506984.json\n",
            "RecordStudy_Session_39_1651769506984.json\n",
            "RecordStudy_Session_3_1651769506984.json\n",
            "RecordStudy_Session_40_1651769506984.json\n",
            "RecordStudy_Session_41_1651769506984.json\n",
            "RecordStudy_Session_42_1651769506984.json\n",
            "RecordStudy_Session_43_1651769506984.json\n",
            "RecordStudy_Session_44_1651769506984.json\n",
            "RecordStudy_Session_45_1651769506984.json\n",
            "RecordStudy_Session_46_1651769506984.json\n",
            "RecordStudy_Session_47_1651769506984.json\n",
            "RecordStudy_Session_48_1651769506984.json\n",
            "RecordStudy_Session_49_1651769506984.json\n",
            "RecordStudy_Session_4_1651769506984.json\n",
            "RecordStudy_Session_50_1651769506984.json\n",
            "RecordStudy_Session_51_1651769506984.json\n",
            "RecordStudy_Session_52_1651769506984.json\n",
            "RecordStudy_Session_53_1651769506984.json\n",
            "RecordStudy_Session_54_1651769506984.json\n",
            "RecordStudy_Session_55_1651769506984.json\n",
            "RecordStudy_Session_56_1651769506984.json\n",
            "RecordStudy_Session_57_1651769506984.json\n",
            "RecordStudy_Session_58_1651769506984.json\n",
            "RecordStudy_Session_59_1651769506984.json\n",
            "RecordStudy_Session_5_1651769506984.json\n",
            "RecordStudy_Session_60_1651769506984.json\n",
            "RecordStudy_Session_61_1651769506984.json\n",
            "RecordStudy_Session_62_1651769506984.json\n",
            "RecordStudy_Session_63_1651769506984.json\n",
            "RecordStudy_Session_64_1651769506984.json\n",
            "RecordStudy_Session_65_1651769506984.json\n",
            "RecordStudy_Session_66_1651769506984.json\n",
            "RecordStudy_Session_67_1651769506984.json\n",
            "RecordStudy_Session_68_1651769506984.json\n",
            "RecordStudy_Session_69_1651769506984.json\n",
            "RecordStudy_Session_6_1651769506984.json\n",
            "RecordStudy_Session_70_1651769506984.json\n",
            "RecordStudy_Session_71_1651769506984.json\n",
            "RecordStudy_Session_7_1651769506984.json\n",
            "RecordStudy_Session_8_1651769506984.json\n",
            "RecordStudy_Session_9_1651769506984.json\n"
          ]
        }
      ],
      "source": [
        "\n",
        "for filename in dir_list:\n",
        "    data = []\n",
        "    if filename.endswith(\".json\"):\n",
        "        # Prints only text file present in My Folder\n",
        "        print(filename)\n",
        "        firstFileFlag = False\n",
        "        if \"Session_0\" in filename:\n",
        "            firstFileFlag = True\n",
        "        with open(path + filename, 'r') as f:\n",
        "            json_data = json.load(f)\n",
        "            if(firstFileFlag):\n",
        "                #data.append(json_data[\"obj\"][\"sessionRecording\"])\n",
        "                parseData(json_data[\"obj\"][\"sessionRecording\"])\n",
        "            else:\n",
        "                #data.append(json.load(f))\n",
        "                parseData(json_data)"
      ]
    },
    {
      "cell_type": "code",
      "execution_count": 10,
      "metadata": {},
      "outputs": [
        {
          "name": "stdout",
          "output_type": "stream",
          "text": [
            "{'unixTime': 1651770258806, 'systemTime': '10-04-18-80', 'userID': '1651769506984', 'sessionType': 'layerable', 'eventName': 'EndTask', 'pinRandomSeed': 8331, 'pinNumCodes': 200, 'pinCodeLength': 6, 'pinNumPieces': 3, 'pinCodes': [], 'score': 8}\n",
            "{'unixTime': 1651771046607, 'systemTime': '10-17-26-60', 'userID': '1651769506984', 'sessionType': 'immersive', 'eventName': 'EndTask', 'pinRandomSeed': 8331, 'pinNumCodes': 200, 'pinCodeLength': 6, 'pinNumPieces': 3, 'pinCodes': [], 'score': 8}\n",
            "{'unixTime': 1651771662356, 'systemTime': '10-27-42-35', 'userID': '1651769506984', 'sessionType': 'immersive', 'eventName': 'EndTask', 'pinRandomSeed': 8331, 'pinNumCodes': 200, 'pinCodeLength': 6, 'pinNumPieces': 3, 'pinCodes': [], 'score': 1}\n"
          ]
        }
      ],
      "source": [
        "\n",
        "#experimentEvents[0][0]\n",
        "experimentEvents\n",
        "pinCodes = experimentEvents[0][0][\"pinCodes\"]\n",
        "\n",
        "for exper in experimentEvents:\n",
        "    for exp in exper:\n",
        "        if exp[\"eventName\"] == \"EndTask\":\n",
        "            print(exp)"
      ]
    },
    {
      "cell_type": "code",
      "execution_count": null,
      "metadata": {},
      "outputs": [],
      "source": []
    }
  ],
  "metadata": {
    "interpreter": {
      "hash": "94690f3ee58cd90505bc8ca7b9b51437beee4b746933a7052b5e5623b12dd429"
    },
    "kernelspec": {
      "display_name": "Python 3.7.8 64-bit",
      "language": "python",
      "name": "python3"
    },
    "language_info": {
      "codemirror_mode": {
        "name": "ipython",
        "version": 3
      },
      "file_extension": ".py",
      "mimetype": "text/x-python",
      "name": "python",
      "nbconvert_exporter": "python",
      "pygments_lexer": "ipython3",
      "version": "3.7.8"
    }
  },
  "nbformat": 4,
  "nbformat_minor": 4
}
