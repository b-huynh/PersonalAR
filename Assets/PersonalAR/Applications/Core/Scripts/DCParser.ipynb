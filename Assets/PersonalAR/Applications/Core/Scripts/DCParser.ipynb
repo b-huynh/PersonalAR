{
  "cells": [
    {
      "cell_type": "code",
      "execution_count": 92,
      "metadata": {},
      "outputs": [],
      "source": [
        "import json\n",
        "import os"
      ]
    },
    {
      "cell_type": "code",
      "execution_count": 93,
      "metadata": {},
      "outputs": [
        {
          "name": "stdout",
          "output_type": "stream",
          "text": [
            "Files and directories in ' C://Users//FourEyes//Downloads//PersonalAR// ' :\n",
            "['RecordStudy_Session_0_1651098244984.json', 'RecordStudy_Session_10_1651098244984.json', 'RecordStudy_Session_11_1651098244984.json', 'RecordStudy_Session_12_1651098244984.json', 'RecordStudy_Session_13_1651098244984.json', 'RecordStudy_Session_14_1651098244984.json', 'RecordStudy_Session_15_1651098244984.json', 'RecordStudy_Session_16_1651098244984.json', 'RecordStudy_Session_17_1651098244984.json', 'RecordStudy_Session_18_1651098244984.json', 'RecordStudy_Session_19_1651098244984.json', 'RecordStudy_Session_1_1651098244984.json', 'RecordStudy_Session_20_1651098244984.json', 'RecordStudy_Session_21_1651098244984.json', 'RecordStudy_Session_22_1651098244984.json', 'RecordStudy_Session_23_1651098244984.json', 'RecordStudy_Session_24_1651098244984.json', 'RecordStudy_Session_25_1651098244984.json', 'RecordStudy_Session_26_1651098244984.json', 'RecordStudy_Session_27_1651098244984.json', 'RecordStudy_Session_28_1651098244984.json', 'RecordStudy_Session_29_1651098244984.json', 'RecordStudy_Session_2_1651098244984.json', 'RecordStudy_Session_30_1651098244984.json', 'RecordStudy_Session_31_1651098244984.json', 'RecordStudy_Session_32_1651098244984.json', 'RecordStudy_Session_33_1651098244984.json', 'RecordStudy_Session_34_1651098244984.json', 'RecordStudy_Session_35_1651098244984.json', 'RecordStudy_Session_36_1651098244984.json', 'RecordStudy_Session_37_1651098244984.json', 'RecordStudy_Session_38_1651098244984.json', 'RecordStudy_Session_41_1651098244984.json', 'RecordStudy_Session_42_1651098244984.json', 'RecordStudy_Session_43_1651098244984.json', 'RecordStudy_Session_44_1651098244984.json', 'RecordStudy_Session_45_1651098244984.json', 'RecordStudy_Session_46_1651098244984.json', 'RecordStudy_Session_47_1651098244984.json', 'RecordStudy_Session_4_1651098244984.json', 'RecordStudy_Session_5_1651098244984.json', 'RecordStudy_Session_6_1651098244984.json', 'RecordStudy_Session_7_1651098244984.json', 'RecordStudy_Session_8_1651098244984.json', 'RecordStudy_Session_9_1651098244984.json']\n"
          ]
        }
      ],
      "source": [
        "path = \"C://Users//FourEyes//Downloads//PersonalAR//\"\n",
        "dir_list = os.listdir(path)\n",
        " \n",
        "print(\"Files and directories in '\", path, \"' :\")\n",
        " \n",
        "# prints all files\n",
        "print(dir_list)"
      ]
    },
    {
      "cell_type": "code",
      "execution_count": 97,
      "metadata": {},
      "outputs": [],
      "source": [
        "appEvents = []\n",
        "codesEvents = []\n",
        "experimentEvents = []\n",
        "\n",
        "def parseData(json_data):\n",
        "    frames = json_data[\"frames\"]\n",
        "    for frame in frames:\n",
        "        appEvent = frame[\"appEvents\"]\n",
        "        codeEvent = frame[\"codesEvents\"]\n",
        "        experimentEvent = frame[\"experimentEvents\"]\n",
        "        if appEvent:\n",
        "            print(appEvent)\n",
        "            appEvents.append(appEvent)\n",
        "        if codeEvent:\n",
        "            print(codeEvent)\n",
        "            codesEvents.append(codeEvent)\n",
        "        if experimentEvent:\n",
        "            experimentEvents.append(experimentEvent)\n"
      ]
    },
    {
      "cell_type": "code",
      "execution_count": 98,
      "metadata": {},
      "outputs": [
        {
          "name": "stdout",
          "output_type": "stream",
          "text": [
            "RecordStudy_Session_0_1651098244984.json\n",
            "[{'unixTime': 1651098244915, 'systemTime': '15-24-04-91', 'eventTime': -69, 'activityID': '9213d4a0-0972-4f91-b721-9372ba49ec4e', 'activityType': 1, 'activity': 'Start', 'name': 'Tutorial'}]\n",
            "RecordStudy_Session_10_1651098244984.json\n",
            "[{'unixTime': 1651098445504, 'systemTime': '15-27-25-50', 'eventTime': 200520, 'activityID': '9213d4a0-0972-4f91-b721-9372ba49ec4e', 'activityType': 1, 'activity': 'Stop', 'name': 'Tutorial'}]\n",
            "[{'unixTime': 1651098446198, 'systemTime': '15-27-26-19', 'eventTime': 201214, 'activityID': '9213d4a0-0972-4f91-b721-9372ba49ec4e', 'activityType': 1, 'activity': 'Start', 'name': 'Tutorial'}]\n",
            "RecordStudy_Session_11_1651098244984.json\n",
            "[{'unixTime': 1651098465719, 'systemTime': '15-27-45-71', 'eventTime': 220735, 'activityID': '9213d4a0-0972-4f91-b721-9372ba49ec4e', 'activityType': 1, 'activity': 'Stop', 'name': 'Tutorial'}]\n",
            "[{'unixTime': 1651098466338, 'systemTime': '15-27-46-33', 'eventTime': 221354, 'activityID': '9213d4a0-0972-4f91-b721-9372ba49ec4e', 'activityType': 1, 'activity': 'Start', 'name': 'Tutorial'}]\n",
            "RecordStudy_Session_12_1651098244984.json\n",
            "RecordStudy_Session_13_1651098244984.json\n",
            "[{'unixTime': 1651098507019, 'systemTime': '15-28-27-01', 'eventTime': 262035, 'activityID': '9213d4a0-0972-4f91-b721-9372ba49ec4e', 'activityType': 1, 'activity': 'Stop', 'name': 'Tutorial'}]\n",
            "[{'unixTime': 1651098507839, 'systemTime': '15-28-27-83', 'eventTime': 262855, 'activityID': '9213d4a0-0972-4f91-b721-9372ba49ec4e', 'activityType': 1, 'activity': 'Start', 'name': 'Tutorial'}]\n",
            "RecordStudy_Session_14_1651098244984.json\n",
            "[{'unixTime': 1651098522379, 'systemTime': '15-28-42-37', 'eventTime': 277395, 'activityID': '9213d4a0-0972-4f91-b721-9372ba49ec4e', 'activityType': 1, 'activity': 'Stop', 'name': 'Tutorial'}]\n",
            "RecordStudy_Session_15_1651098244984.json\n",
            "[{'unixTime': 1651098551369, 'systemTime': '15-29-11-36', 'eventTime': 306385, 'activityID': '9213d4a0-0972-4f91-b721-9372ba49ec4e', 'activityType': 1, 'activity': 'Start', 'name': 'Tutorial'}]\n",
            "RecordStudy_Session_16_1651098244984.json\n",
            "[{'unixTime': 1651098562179, 'systemTime': '15-29-22-17', 'eventTime': 317195, 'activityID': '9213d4a0-0972-4f91-b721-9372ba49ec4e', 'activityType': 1, 'activity': 'Stop', 'name': 'Tutorial'}]\n",
            "RecordStudy_Session_17_1651098244984.json\n",
            "[{'unixTime': 1651098574230, 'systemTime': '15-29-34-22', 'eventTime': 329246, 'activityID': '9213d4a0-0972-4f91-b721-9372ba49ec4e', 'activityType': 1, 'activity': 'Start', 'name': 'Tutorial'}]\n",
            "RecordStudy_Session_18_1651098244984.json\n",
            "RecordStudy_Session_19_1651098244984.json\n",
            "[{'unixTime': 1651098625350, 'systemTime': '15-30-25-35', 'eventTime': 380366, 'activityID': '', 'activityType': 0, 'activity': 'Start', 'name': 'AnnotationsMenu'}]\n",
            "RecordStudy_Session_1_1651098244984.json\n",
            "[{'unixTime': 1651098275996, 'systemTime': '15-24-35-99', 'eventTime': 31012, 'activityID': '9213d4a0-0972-4f91-b721-9372ba49ec4e', 'activityType': 1, 'activity': 'Stop', 'name': 'Tutorial'}]\n",
            "[{'unixTime': 1651098277035, 'systemTime': '15-24-37-03', 'eventTime': 32051, 'activityID': '9213d4a0-0972-4f91-b721-9372ba49ec4e', 'activityType': 1, 'activity': 'Start', 'name': 'Tutorial'}]\n",
            "RecordStudy_Session_20_1651098244984.json\n",
            "RecordStudy_Session_21_1651098244984.json\n",
            "RecordStudy_Session_22_1651098244984.json\n",
            "RecordStudy_Session_23_1651098244984.json\n",
            "RecordStudy_Session_24_1651098244984.json\n",
            "[{'unixTime': 1651098745101, 'systemTime': '15-32-25-10', 'eventTime': 500117, 'activityID': 'e5c30ae4-3a79-4dbd-ad95-5ea026195085', 'activityType': 1, 'activity': 'Start', 'name': 'Code Entry'}]\n",
            "[{'unixTime': 1651098757082, 'systemTime': '15-32-37-08', 'eventTime': 512098, 'activityID': 'b81ea53a-d95b-40d4-a89b-52b1a4255846', 'activityType': 1, 'activity': 'Start', 'name': 'Item Inspector'}, {'unixTime': 1651098757082, 'systemTime': '15-32-37-08', 'eventTime': 512098, 'activityID': 'ceb321f8-68cb-449a-8147-5feffa38640e', 'activityType': 2, 'activity': 'Start', 'name': 'Item Inspector'}, {'unixTime': 1651098757102, 'systemTime': '15-32-37-10', 'eventTime': 512118, 'activityID': 'a3ff9681-f8b4-47fe-a48d-648e7a4cda2d', 'activityType': 2, 'activity': 'Start', 'name': 'Item Inspector'}, {'unixTime': 1651098757112, 'systemTime': '15-32-37-11', 'eventTime': 512128, 'activityID': '3714f17d-7f73-458e-b2c3-061a560d47cd', 'activityType': 2, 'activity': 'Start', 'name': 'Item Inspector'}, {'unixTime': 1651098757122, 'systemTime': '15-32-37-12', 'eventTime': 512138, 'activityID': 'd1976fe1-05ce-4b63-beab-8807505f1fb5', 'activityType': 2, 'activity': 'Start', 'name': 'Item Inspector'}, {'unixTime': 1651098757132, 'systemTime': '15-32-37-13', 'eventTime': 512148, 'activityID': 'ea69b0cd-9614-4dfe-9fde-a198aa647f31', 'activityType': 2, 'activity': 'Start', 'name': 'Item Inspector'}, {'unixTime': 1651098757142, 'systemTime': '15-32-37-14', 'eventTime': 512158, 'activityID': '283d3abc-0b61-4b79-89c5-96a732e70110', 'activityType': 2, 'activity': 'Start', 'name': 'Item Inspector'}, {'unixTime': 1651098757152, 'systemTime': '15-32-37-15', 'eventTime': 512168, 'activityID': '64e26cef-ed2f-491f-8610-197a55ef32dc', 'activityType': 2, 'activity': 'Start', 'name': 'Item Inspector'}]\n",
            "RecordStudy_Session_25_1651098244984.json\n",
            "[{'unixTime': 1651098771422, 'systemTime': '15-32-51-42', 'eventTime': 526438, 'activityID': '47c8592a-486a-497c-8598-3b49a84e5d3c', 'activityType': 1, 'activity': 'Start', 'name': 'Device Groups'}]\n",
            "[{'unixTime': 1651098778048, 'systemTime': '15-32-58-04', 'eventTime': 533064, 'activityID': '', 'activityType': 0, 'activity': 'Stop', 'name': 'AnnotationsMenu'}]\n",
            "[{'unixTime': 1651098779076, 'systemTime': '15-32-59-07', 'eventTime': 534092, 'activityID': '70ebdda8-5e06-458d-addd-f7d23bb640a2', 'activityType': 1, 'activity': 'Start', 'name': 'Atlas'}]\n",
            "RecordStudy_Session_26_1651098244984.json\n",
            "[{'unixTime': 1651098805623, 'systemTime': '15-33-25-62', 'eventTime': 560639, 'activityID': '9213d4a0-0972-4f91-b721-9372ba49ec4e', 'activityType': 1, 'activity': 'Stop', 'name': 'Tutorial'}]\n",
            "RecordStudy_Session_27_1651098244984.json\n",
            "RecordStudy_Session_28_1651098244984.json\n",
            "RecordStudy_Session_29_1651098244984.json\n",
            "RecordStudy_Session_2_1651098244984.json\n",
            "RecordStudy_Session_30_1651098244984.json\n",
            "RecordStudy_Session_31_1651098244984.json\n",
            "RecordStudy_Session_32_1651098244984.json\n",
            "RecordStudy_Session_33_1651098244984.json\n",
            "[{'unixTime': 1651099031636, 'systemTime': '15-37-11-63', 'eventTime': 786652, 'codes': 581237, 'success': False}]\n",
            "RecordStudy_Session_34_1651098244984.json\n",
            "[{'unixTime': 1651099064107, 'systemTime': '15-37-44-10', 'eventTime': 819123, 'codes': 583712, 'success': False}]\n",
            "RecordStudy_Session_35_1651098244984.json\n",
            "RecordStudy_Session_36_1651098244984.json\n",
            "[{'unixTime': 1651099134457, 'systemTime': '15-38-54-45', 'eventTime': 889473, 'codes': 974835, 'success': False}]\n",
            "RecordStudy_Session_37_1651098244984.json\n",
            "RecordStudy_Session_38_1651098244984.json\n",
            "RecordStudy_Session_41_1651098244984.json\n",
            "RecordStudy_Session_42_1651098244984.json\n",
            "RecordStudy_Session_43_1651098244984.json\n",
            "RecordStudy_Session_44_1651098244984.json\n",
            "RecordStudy_Session_45_1651098244984.json\n",
            "RecordStudy_Session_46_1651098244984.json\n",
            "RecordStudy_Session_47_1651098244984.json\n",
            "RecordStudy_Session_4_1651098244984.json\n",
            "[{'unixTime': 1651098328316, 'systemTime': '15-25-28-31', 'eventTime': 83332, 'activityID': '9213d4a0-0972-4f91-b721-9372ba49ec4e', 'activityType': 1, 'activity': 'Stop', 'name': 'Tutorial'}]\n",
            "RecordStudy_Session_5_1651098244984.json\n",
            "[{'unixTime': 1651098342719, 'systemTime': '15-25-42-71', 'eventTime': 97735, 'activityID': '9213d4a0-0972-4f91-b721-9372ba49ec4e', 'activityType': 1, 'activity': 'Start', 'name': 'Tutorial'}]\n",
            "RecordStudy_Session_6_1651098244984.json\n",
            "[{'unixTime': 1651098374637, 'systemTime': '15-26-14-63', 'eventTime': 129653, 'activityID': '9213d4a0-0972-4f91-b721-9372ba49ec4e', 'activityType': 1, 'activity': 'Stop', 'name': 'Tutorial'}]\n",
            "RecordStudy_Session_7_1651098244984.json\n",
            "[{'unixTime': 1651098386247, 'systemTime': '15-26-26-24', 'eventTime': 141263, 'activityID': '9213d4a0-0972-4f91-b721-9372ba49ec4e', 'activityType': 1, 'activity': 'Start', 'name': 'Tutorial'}]\n",
            "RecordStudy_Session_8_1651098244984.json\n",
            "[{'unixTime': 1651098408217, 'systemTime': '15-26-48-21', 'eventTime': 163233, 'activityID': '9213d4a0-0972-4f91-b721-9372ba49ec4e', 'activityType': 1, 'activity': 'Stop', 'name': 'Tutorial'}]\n",
            "[{'unixTime': 1651098409147, 'systemTime': '15-26-49-14', 'eventTime': 164163, 'activityID': '9213d4a0-0972-4f91-b721-9372ba49ec4e', 'activityType': 1, 'activity': 'Start', 'name': 'Tutorial'}]\n",
            "RecordStudy_Session_9_1651098244984.json\n",
            "[{'unixTime': 1651098422037, 'systemTime': '15-27-02-03', 'eventTime': 177053, 'activityID': '9213d4a0-0972-4f91-b721-9372ba49ec4e', 'activityType': 1, 'activity': 'Stop', 'name': 'Tutorial'}]\n",
            "[{'unixTime': 1651098424619, 'systemTime': '15-27-04-61', 'eventTime': 179635, 'activityID': '9213d4a0-0972-4f91-b721-9372ba49ec4e', 'activityType': 1, 'activity': 'Start', 'name': 'Tutorial'}]\n"
          ]
        }
      ],
      "source": [
        "\n",
        "for filename in dir_list:\n",
        "    data = []\n",
        "    if filename.endswith(\".json\"):\n",
        "        # Prints only text file present in My Folder\n",
        "        print(filename)\n",
        "        firstFileFlag = False\n",
        "        if \"Session_0\" in filename:\n",
        "            firstFileFlag = True\n",
        "        with open(path + filename, 'r') as f:\n",
        "            json_data = json.load(f)\n",
        "            if(firstFileFlag):\n",
        "                #data.append(json_data[\"obj\"][\"sessionRecording\"])\n",
        "                parseData(json_data[\"obj\"][\"sessionRecording\"])\n",
        "            else:\n",
        "                #data.append(json.load(f))\n",
        "                parseData(json_data)"
      ]
    },
    {
      "cell_type": "code",
      "execution_count": 113,
      "metadata": {},
      "outputs": [
        {
          "name": "stdout",
          "output_type": "stream",
          "text": [
            "{'Value': 753759, 'Label': 'FD', 'Pieces': [{'Label': 'FD', 'Order': 0, 'Value': '75', 'Assigned': False}, {'Label': 'FD', 'Order': 1, 'Value': '37', 'Assigned': False}, {'Label': 'FD', 'Order': 2, 'Value': '59', 'Assigned': False}], 'OnCodeEntryComplete': {'m_PersistentCalls': {'m_Calls': []}}}\n",
            "{'Value': 937992, 'Label': 'SY', 'Pieces': [{'Label': 'SY', 'Order': 0, 'Value': '93', 'Assigned': False}, {'Label': 'SY', 'Order': 1, 'Value': '79', 'Assigned': False}, {'Label': 'SY', 'Order': 2, 'Value': '92', 'Assigned': False}], 'OnCodeEntryComplete': {'m_PersistentCalls': {'m_Calls': []}}}\n",
            "{'Value': 575863, 'Label': 'CN', 'Pieces': [{'Label': 'CN', 'Order': 0, 'Value': '57', 'Assigned': False}, {'Label': 'CN', 'Order': 1, 'Value': '58', 'Assigned': False}, {'Label': 'CN', 'Order': 2, 'Value': '63', 'Assigned': False}], 'OnCodeEntryComplete': {'m_PersistentCalls': {'m_Calls': []}}}\n",
            "{'Value': 303712, 'Label': 'ES', 'Pieces': [{'Label': 'ES', 'Order': 0, 'Value': '30', 'Assigned': False}, {'Label': 'ES', 'Order': 1, 'Value': '37', 'Assigned': False}, {'Label': 'ES', 'Order': 2, 'Value': '12', 'Assigned': False}], 'OnCodeEntryComplete': {'m_PersistentCalls': {'m_Calls': []}}}\n",
            "{'Value': 958353, 'Label': 'IJ', 'Pieces': [{'Label': 'IJ', 'Order': 0, 'Value': '95', 'Assigned': False}, {'Label': 'IJ', 'Order': 1, 'Value': '83', 'Assigned': False}, {'Label': 'IJ', 'Order': 2, 'Value': '53', 'Assigned': False}], 'OnCodeEntryComplete': {'m_PersistentCalls': {'m_Calls': []}}}\n",
            "{'Value': 379875, 'Label': 'CG', 'Pieces': [{'Label': 'CG', 'Order': 0, 'Value': '37', 'Assigned': False}, {'Label': 'CG', 'Order': 1, 'Value': '98', 'Assigned': False}, {'Label': 'CG', 'Order': 2, 'Value': '75', 'Assigned': False}], 'OnCodeEntryComplete': {'m_PersistentCalls': {'m_Calls': []}}}\n",
            "{'Value': 763258, 'Label': 'XU', 'Pieces': [{'Label': 'XU', 'Order': 0, 'Value': '76', 'Assigned': False}, {'Label': 'XU', 'Order': 1, 'Value': '32', 'Assigned': False}, {'Label': 'XU', 'Order': 2, 'Value': '58', 'Assigned': False}], 'OnCodeEntryComplete': {'m_PersistentCalls': {'m_Calls': []}}}\n",
            "{'Value': 795127, 'Label': 'AN', 'Pieces': [{'Label': 'AN', 'Order': 0, 'Value': '79', 'Assigned': False}, {'Label': 'AN', 'Order': 1, 'Value': '51', 'Assigned': False}, {'Label': 'AN', 'Order': 2, 'Value': '27', 'Assigned': False}], 'OnCodeEntryComplete': {'m_PersistentCalls': {'m_Calls': []}}}\n",
            "{'Value': 438158, 'Label': 'ZV', 'Pieces': [{'Label': 'ZV', 'Order': 0, 'Value': '43', 'Assigned': False}, {'Label': 'ZV', 'Order': 1, 'Value': '81', 'Assigned': False}, {'Label': 'ZV', 'Order': 2, 'Value': '58', 'Assigned': False}], 'OnCodeEntryComplete': {'m_PersistentCalls': {'m_Calls': []}}}\n",
            "{'Value': 847458, 'Label': 'RY', 'Pieces': [{'Label': 'RY', 'Order': 0, 'Value': '84', 'Assigned': False}, {'Label': 'RY', 'Order': 1, 'Value': '74', 'Assigned': False}, {'Label': 'RY', 'Order': 2, 'Value': '58', 'Assigned': False}], 'OnCodeEntryComplete': {'m_PersistentCalls': {'m_Calls': []}}}\n",
            "{'Value': 690582, 'Label': 'ZY', 'Pieces': [{'Label': 'ZY', 'Order': 0, 'Value': '69', 'Assigned': False}, {'Label': 'ZY', 'Order': 1, 'Value': '05', 'Assigned': False}, {'Label': 'ZY', 'Order': 2, 'Value': '82', 'Assigned': False}], 'OnCodeEntryComplete': {'m_PersistentCalls': {'m_Calls': []}}}\n",
            "{'Value': 312388, 'Label': 'AY', 'Pieces': [{'Label': 'AY', 'Order': 0, 'Value': '31', 'Assigned': False}, {'Label': 'AY', 'Order': 1, 'Value': '23', 'Assigned': False}, {'Label': 'AY', 'Order': 2, 'Value': '88', 'Assigned': False}], 'OnCodeEntryComplete': {'m_PersistentCalls': {'m_Calls': []}}}\n",
            "{'Value': 379279, 'Label': 'QX', 'Pieces': [{'Label': 'QX', 'Order': 0, 'Value': '37', 'Assigned': False}, {'Label': 'QX', 'Order': 1, 'Value': '92', 'Assigned': False}, {'Label': 'QX', 'Order': 2, 'Value': '79', 'Assigned': False}], 'OnCodeEntryComplete': {'m_PersistentCalls': {'m_Calls': []}}}\n",
            "{'Value': 594379, 'Label': 'NF', 'Pieces': [{'Label': 'NF', 'Order': 0, 'Value': '59', 'Assigned': False}, {'Label': 'NF', 'Order': 1, 'Value': '43', 'Assigned': False}, {'Label': 'NF', 'Order': 2, 'Value': '79', 'Assigned': False}], 'OnCodeEntryComplete': {'m_PersistentCalls': {'m_Calls': []}}}\n",
            "{'Value': 603744, 'Label': 'UX', 'Pieces': [{'Label': 'UX', 'Order': 0, 'Value': '60', 'Assigned': False}, {'Label': 'UX', 'Order': 1, 'Value': '37', 'Assigned': False}, {'Label': 'UX', 'Order': 2, 'Value': '44', 'Assigned': False}], 'OnCodeEntryComplete': {'m_PersistentCalls': {'m_Calls': []}}}\n",
            "{'Value': 373598, 'Label': 'AX', 'Pieces': [{'Label': 'AX', 'Order': 0, 'Value': '37', 'Assigned': False}, {'Label': 'AX', 'Order': 1, 'Value': '35', 'Assigned': False}, {'Label': 'AX', 'Order': 2, 'Value': '98', 'Assigned': False}], 'OnCodeEntryComplete': {'m_PersistentCalls': {'m_Calls': []}}}\n",
            "{'Value': 558162, 'Label': 'EX', 'Pieces': [{'Label': 'EX', 'Order': 0, 'Value': '55', 'Assigned': False}, {'Label': 'EX', 'Order': 1, 'Value': '81', 'Assigned': False}, {'Label': 'EX', 'Order': 2, 'Value': '62', 'Assigned': False}], 'OnCodeEntryComplete': {'m_PersistentCalls': {'m_Calls': []}}}\n",
            "{'Value': 717379, 'Label': 'FV', 'Pieces': [{'Label': 'FV', 'Order': 0, 'Value': '71', 'Assigned': False}, {'Label': 'FV', 'Order': 1, 'Value': '73', 'Assigned': False}, {'Label': 'FV', 'Order': 2, 'Value': '79', 'Assigned': False}], 'OnCodeEntryComplete': {'m_PersistentCalls': {'m_Calls': []}}}\n",
            "{'Value': 158397, 'Label': 'QE', 'Pieces': [{'Label': 'QE', 'Order': 0, 'Value': '15', 'Assigned': False}, {'Label': 'QE', 'Order': 1, 'Value': '83', 'Assigned': False}, {'Label': 'QE', 'Order': 2, 'Value': '97', 'Assigned': False}], 'OnCodeEntryComplete': {'m_PersistentCalls': {'m_Calls': []}}}\n",
            "{'Value': 379476, 'Label': 'GS', 'Pieces': [{'Label': 'GS', 'Order': 0, 'Value': '37', 'Assigned': False}, {'Label': 'GS', 'Order': 1, 'Value': '94', 'Assigned': False}, {'Label': 'GS', 'Order': 2, 'Value': '76', 'Assigned': False}], 'OnCodeEntryComplete': {'m_PersistentCalls': {'m_Calls': []}}}\n",
            "{'Value': 158053, 'Label': 'XV', 'Pieces': [{'Label': 'XV', 'Order': 0, 'Value': '15', 'Assigned': False}, {'Label': 'XV', 'Order': 1, 'Value': '80', 'Assigned': False}, {'Label': 'XV', 'Order': 2, 'Value': '53', 'Assigned': False}], 'OnCodeEntryComplete': {'m_PersistentCalls': {'m_Calls': []}}}\n",
            "{'Value': 363710, 'Label': 'CJ', 'Pieces': [{'Label': 'CJ', 'Order': 0, 'Value': '36', 'Assigned': False}, {'Label': 'CJ', 'Order': 1, 'Value': '37', 'Assigned': False}, {'Label': 'CJ', 'Order': 2, 'Value': '10', 'Assigned': False}], 'OnCodeEntryComplete': {'m_PersistentCalls': {'m_Calls': []}}}\n",
            "{'Value': 981253, 'Label': 'VW', 'Pieces': [{'Label': 'VW', 'Order': 0, 'Value': '98', 'Assigned': False}, {'Label': 'VW', 'Order': 1, 'Value': '12', 'Assigned': False}, {'Label': 'VW', 'Order': 2, 'Value': '53', 'Assigned': False}], 'OnCodeEntryComplete': {'m_PersistentCalls': {'m_Calls': []}}}\n",
            "{'Value': 213781, 'Label': 'QZ', 'Pieces': [{'Label': 'QZ', 'Order': 0, 'Value': '21', 'Assigned': False}, {'Label': 'QZ', 'Order': 1, 'Value': '37', 'Assigned': False}, {'Label': 'QZ', 'Order': 2, 'Value': '81', 'Assigned': False}], 'OnCodeEntryComplete': {'m_PersistentCalls': {'m_Calls': []}}}\n",
            "{'Value': 127476, 'Label': 'IM', 'Pieces': [{'Label': 'IM', 'Order': 0, 'Value': '12', 'Assigned': False}, {'Label': 'IM', 'Order': 1, 'Value': '74', 'Assigned': False}, {'Label': 'IM', 'Order': 2, 'Value': '76', 'Assigned': False}], 'OnCodeEntryComplete': {'m_PersistentCalls': {'m_Calls': []}}}\n",
            "{'Value': 503764, 'Label': 'CV', 'Pieces': [{'Label': 'CV', 'Order': 0, 'Value': '50', 'Assigned': False}, {'Label': 'CV', 'Order': 1, 'Value': '37', 'Assigned': False}, {'Label': 'CV', 'Order': 2, 'Value': '64', 'Assigned': False}], 'OnCodeEntryComplete': {'m_PersistentCalls': {'m_Calls': []}}}\n",
            "{'Value': 175378, 'Label': 'WJ', 'Pieces': [{'Label': 'WJ', 'Order': 0, 'Value': '17', 'Assigned': False}, {'Label': 'WJ', 'Order': 1, 'Value': '53', 'Assigned': False}, {'Label': 'WJ', 'Order': 2, 'Value': '78', 'Assigned': False}], 'OnCodeEntryComplete': {'m_PersistentCalls': {'m_Calls': []}}}\n",
            "{'Value': 937740, 'Label': 'NW', 'Pieces': [{'Label': 'NW', 'Order': 0, 'Value': '93', 'Assigned': False}, {'Label': 'NW', 'Order': 1, 'Value': '77', 'Assigned': False}, {'Label': 'NW', 'Order': 2, 'Value': '40', 'Assigned': False}], 'OnCodeEntryComplete': {'m_PersistentCalls': {'m_Calls': []}}}\n"
          ]
        }
      ],
      "source": [
        "\n",
        "#experimentEvents[0][0]\n",
        "pinCodes = experimentEvents[0][0][\"pinCodes\"]\n",
        "\n",
        "for pin in pinCodes:\n",
        "        print(pin)"
      ]
    },
    {
      "cell_type": "code",
      "execution_count": null,
      "metadata": {},
      "outputs": [],
      "source": []
    }
  ],
  "metadata": {
    "interpreter": {
      "hash": "94690f3ee58cd90505bc8ca7b9b51437beee4b746933a7052b5e5623b12dd429"
    },
    "kernelspec": {
      "display_name": "Python 3.7.8 64-bit",
      "language": "python",
      "name": "python3"
    },
    "language_info": {
      "codemirror_mode": {
        "name": "ipython",
        "version": 3
      },
      "file_extension": ".py",
      "mimetype": "text/x-python",
      "name": "python",
      "nbconvert_exporter": "python",
      "pygments_lexer": "ipython3",
      "version": "3.7.8"
    }
  },
  "nbformat": 4,
  "nbformat_minor": 4
}
